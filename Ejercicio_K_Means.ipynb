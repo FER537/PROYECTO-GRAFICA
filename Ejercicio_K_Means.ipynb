{
 "cells": [
  {
   "cell_type": "markdown",
   "metadata": {},
   "source": [
    "# Ejercicio Python de K-means\n",
    "Realizaremos un ejercicio de prueba para comprender como funciona este algoritmo"
   ]
  },
  {
   "cell_type": "code",
   "execution_count": 232,
   "metadata": {
    "collapsed": true
   },
   "outputs": [],
   "source": [
    "import pandas as pd\n",
    "import numpy as np\n",
    "import matplotlib.pyplot as plt\n",
    "import seaborn as sb\n",
    "from sklearn.cluster import KMeans\n",
    "from sklearn.metrics import pairwise_distances_argmin_min\n",
    "\n",
    "%matplotlib inline\n",
    "from mpl_toolkits.mplot3d import Axes3D\n",
    "plt.rcParams['figure.figsize'] = (16, 9)\n",
    "plt.style.use('ggplot')"
   ]
  },
  {
   "cell_type": "code",
   "execution_count": 271,
   "metadata": {
    "scrolled": true
   },
   "outputs": [
    {
     "data": {
      "text/html": [
       "<div>\n",
       "<table border=\"1\" class=\"dataframe\">\n",
       "  <thead>\n",
       "    <tr style=\"text-align: right;\">\n",
       "      <th></th>\n",
       "      <th>categoria</th>\n",
       "      <th>cantidad</th>\n",
       "    </tr>\n",
       "  </thead>\n",
       "  <tbody>\n",
       "    <tr>\n",
       "      <th>0</th>\n",
       "      <td>0</td>\n",
       "      <td>NaN</td>\n",
       "    </tr>\n",
       "    <tr>\n",
       "      <th>1</th>\n",
       "      <td>1</td>\n",
       "      <td>11.0</td>\n",
       "    </tr>\n",
       "    <tr>\n",
       "      <th>2</th>\n",
       "      <td>2</td>\n",
       "      <td>15.0</td>\n",
       "    </tr>\n",
       "    <tr>\n",
       "      <th>3</th>\n",
       "      <td>3</td>\n",
       "      <td>6.0</td>\n",
       "    </tr>\n",
       "    <tr>\n",
       "      <th>4</th>\n",
       "      <td>4</td>\n",
       "      <td>3.0</td>\n",
       "    </tr>\n",
       "    <tr>\n",
       "      <th>5</th>\n",
       "      <td>5</td>\n",
       "      <td>1.0</td>\n",
       "    </tr>\n",
       "    <tr>\n",
       "      <th>6</th>\n",
       "      <td>6</td>\n",
       "      <td>2.0</td>\n",
       "    </tr>\n",
       "    <tr>\n",
       "      <th>7</th>\n",
       "      <td>7</td>\n",
       "      <td>2.0</td>\n",
       "    </tr>\n",
       "    <tr>\n",
       "      <th>8</th>\n",
       "      <td>8</td>\n",
       "      <td>1.0</td>\n",
       "    </tr>\n",
       "    <tr>\n",
       "      <th>9</th>\n",
       "      <td>9</td>\n",
       "      <td>1.0</td>\n",
       "    </tr>\n",
       "  </tbody>\n",
       "</table>\n",
       "</div>"
      ],
      "text/plain": [
       "   categoria  cantidad\n",
       "0          0       NaN\n",
       "1          1      11.0\n",
       "2          2      15.0\n",
       "3          3       6.0\n",
       "4          4       3.0\n",
       "5          5       1.0\n",
       "6          6       2.0\n",
       "7          7       2.0\n",
       "8          8       1.0\n",
       "9          9       1.0"
      ]
     },
     "execution_count": 271,
     "metadata": {},
     "output_type": "execute_result"
    }
   ],
   "source": [
    "# Veamos cuantos usuarios en cada categoria hay en el grupo 0\n",
    "group_referrer_index = copy['label'] ==0\n",
    "group_referrals = copy[group_referrer_index]\n",
    "\n",
    "diversidadGrupo =  pd.DataFrame()\n",
    "diversidadGrupo['categoria']=[0,1,2,3,4,5,6,7,8,9]\n",
    "diversidadGrupo['cantidad']=group_referrals.groupby('categoria').size()\n",
    "diversidadGrupo"
   ]
  },
  {
   "cell_type": "code",
   "execution_count": 272,
   "metadata": {},
   "outputs": [
    {
     "name": "stdout",
     "output_type": "stream",
     "text": [
      "AvrilLavigne 2 0\n",
      "britneyspears 2 0\n",
      "celinedion 2 0\n",
      "Courtney 2 0\n",
      "Fergie 2 0\n",
      "IamStevenT 2 0\n",
      "JessieJ 2 0\n",
      "jtimberlake 2 0\n",
      "kanyewest 2 0\n",
      "katyperry 2 0\n",
      "KidRock 2 0\n",
      "LennyKravitz 2 0\n",
      "MariahCarey 2 0\n",
      "shakira 2 0\n",
      "taylorswift13 2 0\n"
     ]
    }
   ],
   "source": [
    "#imprimimos en pantalla los usuarios con categoria 2 del grupo\n",
    "for index, row in group_referrals.iterrows():\n",
    "    if row[\"categoria\"] == 2:\n",
    "        print (row[\"usuario\"], row[\"categoria\"],row[\"label\"])"
   ]
  },
  {
   "cell_type": "code",
   "execution_count": 251,
   "metadata": {},
   "outputs": [
    {
     "data": {
      "text/plain": [
       "array([ 21, 107,  82,  80,  91])"
      ]
     },
     "execution_count": 251,
     "metadata": {},
     "output_type": "execute_result"
    }
   ],
   "source": [
    "#vemos el representante del grupo, el usuario cercano a su centroid\n",
    "closest, _ = pairwise_distances_argmin_min(kmeans.cluster_centers_, X)\n",
    "closest"
   ]
  },
  {
   "cell_type": "code",
   "execution_count": 252,
   "metadata": {},
   "outputs": [
    {
     "name": "stdout",
     "output_type": "stream",
     "text": [
      "carmenelectra\n",
      "Pablo_Iglesias_\n",
      "JudgeJudy\n",
      "JPVarsky\n",
      "kobebryant\n"
     ]
    }
   ],
   "source": [
    "users=dataframe['usuario'].values\n",
    "for row in closest:\n",
    "    print(users[row])"
   ]
  },
  {
   "cell_type": "code",
   "execution_count": 267,
   "metadata": {},
   "outputs": [
    {
     "name": "stdout",
     "output_type": "stream",
     "text": [
      "andyroddick 7 0\n",
      "AngelAlessandra 3 0\n",
      "AvrilLavigne 2 0\n",
      "BarRefaeli 3 0\n",
      "britneyspears 2 0\n",
      "carmenelectra 3 0\n",
      "celinedion 2 0\n",
      "CindyCrawford 3 0\n",
      "CourteneyCox 1 0\n",
      "Courtney 2 0\n",
      "Cristiano 7 0\n",
      "EmWatson 1 0\n",
      "epunset 6 0\n",
      "EvaLongoria 3 0\n",
      "Fergie 2 0\n",
      "heidiklum 3 0\n",
      "IamStevenT 2 0\n",
      "JessieJ 2 0\n",
      "jimlangevin 8 0\n",
      "jimmyfallon 4 0\n",
      "jtimberlake 2 0\n",
      "justdemi 1 0\n",
      "kanyewest 2 0\n",
      "katyperry 2 0\n",
      "KevinSpacey 1 0\n",
      "KidRock 2 0\n",
      "LennyKravitz 2 0\n",
      "LeoDiCaprio 1 0\n",
      "MariahCarey 2 0\n",
      "martinvars 6 0\n",
      "MelanieGriffith 1 0\n",
      "MileyCyrus 1 0\n",
      "Oprah 4 0\n",
      "PaulaMeliveo 5 0\n",
      "paulocoelho 9 0\n",
      "RealHughJackman 1 0\n",
      "shakira 2 0\n",
      "taylorswift13 2 0\n",
      "TheEllenShow 4 0\n",
      "TheReal_Jlh 1 0\n",
      "TomCruise 1 0\n",
      "ZacEfron 1 0\n"
     ]
    }
   ],
   "source": [
    "#miramos los usuarios del grupo 0\n",
    "for index, row in copy.iterrows():\n",
    "    if row[\"label\"] == 0:\n",
    "        print (row[\"usuario\"], row[\"categoria\"],row[\"label\"])"
   ]
  },
  {
   "cell_type": "markdown",
   "metadata": {},
   "source": [
    "# Clasificación de nuevos registros"
   ]
  },
  {
   "cell_type": "code",
   "execution_count": 273,
   "metadata": {},
   "outputs": [
    {
     "name": "stdout",
     "output_type": "stream",
     "text": [
      "[3]\n"
     ]
    }
   ],
   "source": [
    "X_new = np.array([[45.92,57.74,15.66]]) #davidguetta personality traits\n",
    "new_labels = kmeans.predict(X_new)\n",
    "print(new_labels)\n",
    "\n",
    "#NOTA: en el array podemos poner más de un array para evaluar a varios usuarios nuevos a la vez"
   ]
  },
  {
   "cell_type": "markdown",
   "metadata": {},
   "source": [
    "NOTA FINAL: Los resultados obtenidos pueden varias de ejecución en ejecución pues al inicializar aleatoriamente los centroids, podemos obtener grupos distintos o los mismos pero en distinto orden y color"
   ]
  }
 ],
 "metadata": {
  "kernelspec": {
   "display_name": "Python 3",
   "language": "python",
   "name": "python3"
  },
  "language_info": {
   "codemirror_mode": {
    "name": "ipython",
    "version": 3
   },
   "file_extension": ".py",
   "mimetype": "text/x-python",
   "name": "python",
   "nbconvert_exporter": "python",
   "pygments_lexer": "ipython3",
   "version": "3.6.5"
  }
 },
 "nbformat": 4,
 "nbformat_minor": 2
}
